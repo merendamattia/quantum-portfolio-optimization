{
 "cells": [
  {
   "cell_type": "markdown",
   "metadata": {},
   "source": [
    "# Portfolio Optimization - qaoa solution"
   ]
  },
  {
   "cell_type": "markdown",
   "metadata": {},
   "source": [
    "## Import"
   ]
  },
  {
   "cell_type": "code",
   "execution_count": null,
   "metadata": {},
   "outputs": [],
   "source": [
    "from qiskit_finance.data_providers import RandomDataProvider\n",
    "import datetime\n",
    "from qiskit_finance.applications.optimization import PortfolioOptimization\n",
    "from qiskit_algorithms.utils import algorithm_globals\n",
    "from qiskit_algorithms.optimizers import COBYLA\n",
    "from qiskit_algorithms import QAOA\n",
    "from qiskit_aer.primitives import Sampler\n",
    "from qiskit.result import QuasiDistribution\n",
    "from qiskit_algorithms.utils import algorithm_globals\n",
    "from qiskit_optimization.algorithms import MinimumEigenOptimizer\n",
    "\n",
    "import numpy as np\n",
    "import seaborn as sns\n",
    "import matplotlib.pyplot as plt\n",
    "import pandas as pd\n"
   ]
  },
  {
   "cell_type": "markdown",
   "metadata": {},
   "source": [
    "## Generazione dei dati\n",
    "\n",
    "In questa sezione, utilizziamo la classe `RandomDataProvider` di Qiskit per generare dati storici casuali relativi a un portafoglio di 8 asset fittizi. \n",
    "\n",
    "- **assets:** Numero di azioni nel portafoglio.\n",
    "- **seed:** Valore per garantire la riproducibilità dei dati.\n",
    "- **data_provider:** Simula i ritorni medi e la matrice di covarianza per il periodo specificato.\n",
    "\n",
    "Il vettore `mu` contiene i ritorni medi per ogni asset, mentre la matrice `sigma` rappresenta la covarianza tra i ritorni."
   ]
  },
  {
   "cell_type": "code",
   "execution_count": null,
   "metadata": {},
   "outputs": [],
   "source": [
    "assets = 4\n",
    "seed = 2024\n",
    "\n",
    "start_date = datetime.datetime(2020, 1, 1)\n",
    "end_date = datetime.datetime(2024, 1, 1)\n",
    "\n",
    "stocks = [(\"TICKER_%s\" % i) for i in range(assets)]\n",
    "data_provider = RandomDataProvider(\n",
    "    tickers=stocks,\n",
    "    start=start_date,\n",
    "    end=end_date,\n",
    "    seed=seed,\n",
    ")\n",
    "\n",
    "data_provider.run()"
   ]
  },
  {
   "cell_type": "markdown",
   "metadata": {},
   "source": [
    "## Stampa dei dati"
   ]
  },
  {
   "cell_type": "code",
   "execution_count": null,
   "metadata": {},
   "outputs": [
    {
     "name": "stdout",
     "output_type": "stream",
     "text": [
      "\n",
      "Dati Generati per il periodo dal 2024-01-01 al 2024-01-04:\n",
      "--------------------------------------------------------------------------------\n",
      "Data        TICKER_0    TICKER_1    TICKER_2    TICKER_3    \n",
      "2024-01-01  92.029      78.607      46.509      58.269      \n",
      "2024-01-02  93.671      78.674      48.319      57.161      \n",
      "2024-01-03  94.817      79.536      49.070      58.645      \n",
      "--------------------------------------------------------------------------------\n"
     ]
    }
   ],
   "source": [
    "stock_data = data_provider._data\n",
    "\n",
    "# devo escludere il giorno di inizio o di fine perché non viene considerato\n",
    "dates = pd.date_range(start=start_date, end=end_date, inclusive=\"left\")\n",
    "\n",
    "# print(dates)\n",
    "print(f\"\\nDati Generati per il periodo dal {start_date.date()} al {end_date.date()}:\")\n",
    "print(\"-\" * 80)\n",
    "print(f\"{'Data':<12}\", end=\"\")\n",
    "for i in range(len(stock_data)):\n",
    "    print(f\"TICKER_{i:<5}\", end=\"\")\n",
    "print()\n",
    "\n",
    "for i, date in enumerate(dates):\n",
    "    # print(i)\n",
    "    # print(f\"{date.date():<12}\", end=\"\")\n",
    "    print(f\"{date.strftime('%Y-%m-%d'):<12}\", end=\"\")\n",
    "    \n",
    "    # print(stock_data[i])\n",
    "    for j in range(len(stock_data)):\n",
    "        print(f\"{stock_data[j][i]:<12.3f}\", end=\"\")\n",
    "    \n",
    "    print()\n",
    "print(\"-\" * 80)"
   ]
  },
  {
   "cell_type": "markdown",
   "metadata": {},
   "source": [
    "## Visualizzazione della matrice di covarianza\n",
    "\n",
    "Questa sezione utilizza Matplotlib per visualizzare la matrice di covarianza (`sigma`).\n",
    "\n",
    "- Le celle più scure indicano una covarianza maggiore, cioè una correlazione più forte tra i rispettivi asset.\n",
    "\n",
    "> Questo tipo di visualizzazione aiuta a comprendere il rischio sistematico del portafoglio."
   ]
  },
  {
   "cell_type": "code",
   "execution_count": null,
   "metadata": {},
   "outputs": [],
   "source": [
    "mu = data_provider.get_period_return_mean_vector()\n",
    "sigma = data_provider.get_period_return_covariance_matrix()\n",
    "\n",
    "sigma_df = pd.DataFrame(sigma, index=stocks, columns=stocks)\n",
    "\n",
    "plt.figure(figsize=(8, 6))\n",
    "sns.heatmap(\n",
    "    sigma_df, \n",
    "    annot=True,\n",
    "    fmt=\".4f\",\n",
    "    cmap=\"coolwarm\",\n",
    "    cbar=True,\n",
    "    linewidths=0.5,\n",
    "    square=True\n",
    ")\n",
    "plt.title(\"Matrice di covarianza degli assets\")\n",
    "plt.show()"
   ]
  },
  {
   "cell_type": "markdown",
   "metadata": {},
   "source": [
    "## Impostazione del problema di ottimizzazione\n",
    "\n",
    "Configuriamo il problema di ottimizzazione del portafoglio utilizzando la classe `PortfolioOptimization`.\n",
    "\n",
    "- **risk_factor:** Parametro che bilancia rischio e ritorno nell’ottimizzazione.\n",
    "- **buget:** Numero massimo di asset selezionabili.\n",
    "\n",
    "Questo problema viene convertito in un Quadratic Program, che può essere risolto sia con metodi classici che quantistici."
   ]
  },
  {
   "cell_type": "code",
   "execution_count": null,
   "metadata": {},
   "outputs": [],
   "source": [
    "risk_factor = 0.5\n",
    "# 50% of the assets\n",
    "budget = assets // 2\n",
    "\n",
    "# penalty = assets\n",
    "po = PortfolioOptimization(\n",
    "    expected_returns=mu, covariances=sigma, risk_factor=risk_factor, budget=budget\n",
    ")\n",
    "qp = po.to_quadratic_program()\n",
    "# print(qp)"
   ]
  },
  {
   "cell_type": "markdown",
   "metadata": {},
   "source": [
    "## Interpretazione dei risultati\n",
    "\n",
    "Stampiamo e analizziamo i risultati dell'ottimizzazione:\n",
    "\n",
    "- **Selection:** Array binario che indica quali asset sono stati inclusi nel portafoglio ottimale.\n",
    "- **Value:** Valore ottimizzato del portafoglio.\n",
    "- **Probabilities:** Nel caso di solver quantistici, probabilità associate agli autostati.\n",
    "\n",
    "Questa sezione fornisce un riepilogo dettagliato delle scelte effettuate dal modello."
   ]
  },
  {
   "cell_type": "code",
   "execution_count": null,
   "metadata": {},
   "outputs": [],
   "source": [
    "\n",
    "def print_result(result, portfolio):\n",
    "    selection = result.x\n",
    "    value = result.fval\n",
    "    print(\"Optimal: selection {}, value {:.4f}\".format(selection, value))\n",
    "\n",
    "    eigenstate = result.min_eigen_solver_result.eigenstate\n",
    "    probabilities = (\n",
    "        eigenstate.binary_probabilities()\n",
    "        if isinstance(eigenstate, QuasiDistribution)\n",
    "        else {k: np.abs(v) ** 2 for k, v in eigenstate.to_dict().items()}\n",
    "    )\n",
    "    print(\"\\n----------------- Full result ---------------------\")\n",
    "    print(\"selection\\tvalue\\t\\tprobability\")\n",
    "    print(\"---------------------------------------------------\")\n",
    "    probabilities = sorted(probabilities.items(), key=lambda x: x[1], reverse=True)\n",
    "\n",
    "    for k, v in probabilities:\n",
    "        x = np.array([int(i) for i in list(reversed(k))])\n",
    "        value = portfolio.to_quadratic_program().objective.evaluate(x)\n",
    "        print(\"%10s\\t%.4f\\t\\t%.4f\" % (x, value, v))"
   ]
  },
  {
   "cell_type": "markdown",
   "metadata": {},
   "source": [
    "# QAOA"
   ]
  },
  {
   "cell_type": "markdown",
   "metadata": {},
   "source": [
    "## Implementazione dell'ottimizzazione con QAOA\n",
    "\n",
    "In questa sezione del codice, utilizziamo l'algoritmo **QAOA** (Quantum Approximate Optimization Algorithm) per risolvere il problema di ottimizzazione del portafoglio.\n",
    "\n",
    "1. **Impostazioni iniziali:**\n",
    "   - Viene impostato il seme casuale tramite `algorithm_globals.random_seed = seed` per garantire la riproducibilità dei risultati.\n",
    "   \n",
    "2. **Ottimizzatore COBYLA:**\n",
    "   - Viene creato un ottimizzatore **COBYLA** con un massimo di 500 iterazioni. Questo ottimizzatore viene utilizzato per ottimizzare i parametri durante l'esecuzione di QAOA.\n",
    "\n",
    "3. **Definizione del circuito QAOA:**\n",
    "   - Il circuito QAOA viene creato utilizzando l'ansatz definito dal numero di ripetizioni (`reps=3`), che indica quante volte il circuito viene ripetuto per migliorare la qualità della soluzione.\n",
    "   \n",
    "4. **Soluzione del problema di ottimizzazione:**\n",
    "   - L'algoritmo QAOA viene applicato al problema di ottimizzazione, e il risultato viene ottenuto tramite il metodo `qaoa.solve(qp)`.\n",
    "\n",
    "In questo caso, l'ottimizzazione viene effettuata utilizzando il metodo di **MinimumEigenOptimizer**, che è una strategia per ottenere il minimo dell'Hamiltoniano associato al problema di ottimizzazione.\n",
    "\n",
    "Infine, il risultato viene memorizzato nella variabile `result`, che conterrà le scelte ottimali di asset e il valore corrispondente.\n"
   ]
  },
  {
   "cell_type": "code",
   "execution_count": null,
   "metadata": {},
   "outputs": [],
   "source": [
    "algorithm_globals.random_seed = seed\n",
    "\n",
    "cobyla = COBYLA()\n",
    "cobyla.set_options(maxiter=500)\n",
    "qaoa_mes = QAOA(sampler=Sampler(), optimizer=cobyla, reps=1)\n",
    "qaoa = MinimumEigenOptimizer(qaoa_mes)\n",
    "result = qaoa.solve(qp)\n",
    "\n",
    "\n",
    "decomposed_circuit = qaoa_mes.ansatz.decompose()\n",
    "decomposed_circuit.draw(\"mpl\")\n",
    "# qaoa_mes.ansatz.draw(\"mpl\")\n",
    "# print_result(result, po)"
   ]
  },
  {
   "cell_type": "markdown",
   "metadata": {},
   "source": [
    "## Visualizzazione dei risultati\n",
    "\n",
    "In questa sezione presentiamo tre diversi grafici che aiutano a interpretare e analizzare i risultati ottenuti dall'ottimizzazione del portafoglio.\n",
    "\n",
    "1. **Grafico a barre: composizione del portafoglio ottimale**\n",
    "   - Questo grafico mostra quali asset sono stati selezionati nel portafoglio ottimale, con gli asset inclusi aventi valore `1` e quelli esclusi aventi valore `0`.\n",
    "   - La visualizzazione aiuta a comprendere chiaramente la distribuzione degli asset all'interno del portafoglio in base al modello ottimizzato.\n",
    "\n",
    "2. **Grafico rischio vs ritorno atteso**\n",
    "   - Il grafico mostra il valore ottimizzato del portafoglio al variare del fattore di rischio, ovvero il compromesso tra rischio e rendimento.\n",
    "   - L'asse X rappresenta il fattore di rischio, mentre l'asse Y mostra il valore ottimale ottenuto, evidenziando come l'aumento del rischio impatti sul valore complessivo del portafoglio.\n",
    "\n",
    "3. **Grafico valore ottimale vs budget**\n",
    "   - In questo grafico si analizza come il valore ottimale della funzione obiettivo varia al variare del budget, cioè del numero massimo di asset selezionabili nel portafoglio.\n",
    "   - L'asse X rappresenta il budget, mentre l'asse Y mostra il valore ottimale.\n",
    "   - Osserviamo che con un budget maggiore, il valore ottimale tende a migliorare (essere meno negativo), ma oltre un certo punto potrebbe saturarsi, indicando che l'inclusione di ulteriori asset non porta a miglioramenti significativi."
   ]
  },
  {
   "cell_type": "code",
   "execution_count": null,
   "metadata": {},
   "outputs": [],
   "source": [
    "selection = result.x\n",
    "plt.bar(stocks, selection, color='blue')\n",
    "plt.title(\"Assets selezionati\")\n",
    "plt.xlabel(\"Asset\")\n",
    "plt.ylabel(\"Inclusione portafoglio (1=Sì, 0=No)\")\n",
    "plt.xticks(rotation=45)\n",
    "plt.show()"
   ]
  },
  {
   "cell_type": "code",
   "execution_count": null,
   "metadata": {},
   "outputs": [],
   "source": [
    "risks = np.linspace(0, 1, 10)\n",
    "values_per_risk = []\n",
    "\n",
    "for r in risks:\n",
    "    po = PortfolioOptimization(expected_returns=mu, covariances=sigma, risk_factor=r, budget=budget)\n",
    "    qp = po.to_quadratic_program()\n",
    "    \n",
    "    result = qaoa.solve(qp)\n",
    "    \n",
    "    values_per_risk.append(result.fval)\n",
    "\n",
    "plt.figure(figsize=(10, 6))\n",
    "plt.plot(risks, values_per_risk, marker='o', linestyle='-', color='b', label='Valore Ottimale')\n",
    "plt.title(\"Rischio vs ritorno atteso\")\n",
    "plt.xlabel(\"Fattore di rischio\")\n",
    "plt.ylabel(\"Valore ottimale\")\n",
    "plt.grid(True)\n",
    "plt.legend()\n",
    "plt.show()"
   ]
  },
  {
   "cell_type": "code",
   "execution_count": null,
   "metadata": {},
   "outputs": [],
   "source": [
    "risk = 0.5\n",
    "\n",
    "budgets = range(1, assets + 1)\n",
    "values_per_budget = []\n",
    "selections_per_budget = []\n",
    "\n",
    "for budget in budgets:\n",
    "    po = PortfolioOptimization(expected_returns=mu, covariances=sigma, risk_factor=risk, budget=budget)\n",
    "    qp = po.to_quadratic_program()\n",
    "    \n",
    "    result = qaoa.solve(qp)\n",
    "    \n",
    "    values_per_budget.append(result.fval)\n",
    "    selections_per_budget.append(result.x)\n",
    "\n",
    "plt.figure(figsize=(10, 6))\n",
    "plt.plot(budgets, values_per_budget, marker='o', linestyle='-', color='g', label='Valore Ottimale')\n",
    "plt.title(\"Valore ottimale vs budget\")\n",
    "plt.xlabel(\"Budget (Asset selezionabili)\")\n",
    "plt.ylabel(\"Valore ottimale\")\n",
    "plt.grid(True)\n",
    "plt.legend()\n",
    "plt.show()\n"
   ]
  }
 ],
 "metadata": {
  "kernelspec": {
   "display_name": "Python 3 (ipykernel)",
   "language": "python",
   "name": "python3"
  }
 },
 "nbformat": 4,
 "nbformat_minor": 2
}
